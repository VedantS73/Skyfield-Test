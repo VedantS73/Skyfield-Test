{
 "cells": [
  {
   "cell_type": "code",
   "execution_count": 1,
   "metadata": {},
   "outputs": [
    {
     "name": "stdout",
     "output_type": "stream",
     "text": [
      "11h 47m 28.36s\n",
      "+02deg 09' 03.8\"\n",
      "2.45861 au\n"
     ]
    }
   ],
   "source": [
    "from skyfield.api import load\n",
    "\n",
    "# Create a timescale and ask the current time.\n",
    "ts = load.timescale()\n",
    "t = ts.now()\n",
    "\n",
    "# Load the JPL ephemeris DE421 (covers 1900-2050).\n",
    "planets = load('de421.bsp')\n",
    "earth, mars = planets['earth'], planets['mars']\n",
    "\n",
    "# What's the position of Mars, viewed from Earth?\n",
    "astrometric = earth.at(t).observe(mars)\n",
    "ra, dec, distance = astrometric.radec()\n",
    "\n",
    "print(ra)\n",
    "print(dec)\n",
    "print(distance)"
   ]
  },
  {
   "cell_type": "code",
   "execution_count": 5,
   "metadata": {},
   "outputs": [],
   "source": [
    "from geopy import Nominatim\n",
    "location = 'Parel, Mumbai, India'\n",
    "when = '2023-08-16 00:00'\n",
    "\n",
    "locator = Nominatim(user_agent='vedantsawanttestapp')\n",
    "location = locator.geocode(location)\n",
    "\n",
    "lat, long = location.latitude, location.longitude"
   ]
  },
  {
   "cell_type": "code",
   "execution_count": 12,
   "metadata": {},
   "outputs": [
    {
     "name": "stdout",
     "output_type": "stream",
     "text": [
      "-43deg 01' 49.8\"\n",
      "336deg 25' 02.5\"\n"
     ]
    }
   ],
   "source": [
    "from skyfield.api import N, W, wgs84\n",
    "\n",
    "boston = earth + wgs84.latlon(42.3583 * N, 71.0636 * W)\n",
    "observer = wgs84.latlon(latitude_degrees=lat, longitude_degrees=long).at(t)\n",
    "astrometric = boston.at(t).observe(mars)\n",
    "alt, az, d = astrometric.apparent().altaz()\n",
    "\n",
    "print(alt)\n",
    "print(az)"
   ]
  }
 ],
 "metadata": {
  "kernelspec": {
   "display_name": "Python 3",
   "language": "python",
   "name": "python3"
  },
  "language_info": {
   "codemirror_mode": {
    "name": "ipython",
    "version": 3
   },
   "file_extension": ".py",
   "mimetype": "text/x-python",
   "name": "python",
   "nbconvert_exporter": "python",
   "pygments_lexer": "ipython3",
   "version": "3.10.11"
  },
  "orig_nbformat": 4
 },
 "nbformat": 4,
 "nbformat_minor": 2
}
